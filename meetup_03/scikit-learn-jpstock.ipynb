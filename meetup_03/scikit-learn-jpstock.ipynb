{
 "cells": [
  {
   "cell_type": "markdown",
   "metadata": {},
   "source": [
    "## Scikit-learnで未来の株価を予測する\n",
    "\n",
    "以下の記事を参考に機械学習を用いた課題に取り組んでみる\n",
    "\n",
    "#### 機械学習で未来を予測する - scikit-learn の決定木で未来の株価を予測\n",
    "http://qiita.com/ynakayama/items/6a472e5ebbe9365186bd\n",
    "\n",
    "「決定木」について詳しく知りたい場合は、以下のサイトを参考にする\n",
    "\n",
    "https://ja.wikipedia.org/wiki/%E6%B1%BA%E5%AE%9A%E6%9C%A8"
   ]
  },
  {
   "cell_type": "markdown",
   "metadata": {},
   "source": [
    "### 0.環境設定\n",
    "\n",
    "インストールされていないパッケージがあれば追加する\n",
    "\n",
    "```\n",
    "> pip install numpy\n",
    "> pip install scikit-learn\n",
    "> pip install pandas\n",
    "> pip install jupyter\n",
    "> pip install lxml\n",
    "> pip install html5lib\n",
    "> pip install BeautifulSoup4\n",
    "```"
   ]
  },
  {
   "cell_type": "code",
   "execution_count": 1,
   "metadata": {
    "collapsed": true
   },
   "outputs": [],
   "source": [
    "# Jupyterでデータをブラウザ上にプロットする場合は以下を利用する\n",
    "%matplotlib inline"
   ]
  },
  {
   "cell_type": "code",
   "execution_count": 2,
   "metadata": {
    "collapsed": true
   },
   "outputs": [],
   "source": [
    "# 今回の作業で必要になるpythonのライブラリをimportする\n",
    "import pandas as pd\n",
    "import numpy as np\n",
    "from sklearn import tree"
   ]
  },
  {
   "cell_type": "code",
   "execution_count": 3,
   "metadata": {
    "collapsed": false
   },
   "outputs": [],
   "source": [
    "# Warningを表示させないオプション設定\n",
    "import warnings\n",
    "warnings.filterwarnings('ignore', category=DeprecationWarning)\n",
    "warnings.filterwarnings('ignore', category=FutureWarning)"
   ]
  },
  {
   "cell_type": "markdown",
   "metadata": {},
   "source": [
    "### 1.データを取得する\n",
    "\n",
    "以下のサイトを参考に、株価データを用意する\n",
    "\n",
    "#### 過去のデータからビッグデータ分析で株価を予測する\n",
    "http://qiita.com/ynakayama/items/420ebe206e34f9941e51\n",
    "\n",
    "データ取得のPythonスクリプト（ jpstoc.py）は以下のサイトのものを利用する\n",
    "\n",
    "https://github.com/ynakayama/sandbox/blob/master/python/pandas/jpstock.py\n",
    "\n",
    "※入手したスクリプトは、このnotebookと同じディレクトリに配置する"
   ]
  },
  {
   "cell_type": "code",
   "execution_count": 4,
   "metadata": {
    "collapsed": false
   },
   "outputs": [],
   "source": [
    "from jpstock import JpStock\n",
    "jpstock = JpStock()\n",
    "\n",
    "# 取得する銘柄のコード、データの開始年月日を指定する\n",
    "stock = '####'\n",
    "start = '2016.1.1'\n",
    "\n",
    "#  スクリプトを実行してデータを取得し、csvファイルに保存する\n",
    "stock_tse = jpstock.get(int(stock), start=start)\n",
    "stock_tse.to_csv(\"\".join([\"stock_\", stock, \".csv\"]))"
   ]
  },
  {
   "cell_type": "markdown",
   "metadata": {},
   "source": [
    "### 2.不要なデータを掃除する\n",
    "\n",
    "Pythonのスクリプトでデータをチェックして削除できると良いが、\n",
    "テキストエディタ等でデータを確認して作業する"
   ]
  },
  {
   "cell_type": "code",
   "execution_count": 5,
   "metadata": {
    "collapsed": true
   },
   "outputs": [],
   "source": [
    "# 2016-01-09,610.0,610.0,598.0,600.9,14792000.0,600.9\n",
    "# 2016-01-12,,,,,,   ←　不要なデータなので削除する\n",
    "# 2016-01-13,618.0,612.0,612.0,610.9,15292000.0,750.3"
   ]
  },
  {
   "cell_type": "markdown",
   "metadata": {},
   "source": [
    "### 3.教師データを作る\n",
    "\n",
    "取得したデータから学習用のデータを作成する"
   ]
  },
  {
   "cell_type": "markdown",
   "metadata": {},
   "source": [
    "#### 教師データを作るためのメソッドを用意する"
   ]
  },
  {
   "cell_type": "code",
   "execution_count": 6,
   "metadata": {
    "collapsed": true
   },
   "outputs": [],
   "source": [
    "# 教師データを作るためのメソッド\n",
    "def train_data(arr):\n",
    "    train_X = []\n",
    "    train_y = []\n",
    "#    # 90 日間のデータを学習、 1 日ずつ後ろにずらしていく\n",
    "#    for i in np.arange(-90, -15):\n",
    "    # 30 日間のデータを学習、 1 日ずつ後ろにずらしていく\n",
    "    for i in np.arange(-30, -15):\n",
    "        s = i + 14 # 14 日間の変化を素性にする\n",
    "        feature = arr.ix[i:s]\n",
    "        if feature[-1] < arr[s]: # その翌日、株価は上がったか？\n",
    "            train_y.append(1) # YES なら 1 を\n",
    "        else:\n",
    "            train_y.append(0) # NO なら 0 を\n",
    "        train_X.append(feature.values)\n",
    "    # 上げ下げの結果と教師データのセットを返す\n",
    "    return np.array(train_X), np.array(train_y)"
   ]
  },
  {
   "cell_type": "markdown",
   "metadata": {},
   "source": [
    "#### 取得しておいた株価のデータをプログラム上にロードして教師データを取り出す（作成する）\n",
    "\n",
    "pandasのDataFrameを用いる"
   ]
  },
  {
   "cell_type": "code",
   "execution_count": 7,
   "metadata": {
    "collapsed": false
   },
   "outputs": [],
   "source": [
    "# csv ファイルからの時系列データ読み込み\n",
    "csvfile = \"\".join([\"stock_\", stock, \".csv\"])\n",
    "df = pd.read_csv(csvfile, index_col=0, parse_dates=True)\n",
    "#df = df[-90:] # 直近の 90 日間\n",
    "df = df[-30:] # 直近の 30 日間"
   ]
  },
  {
   "cell_type": "code",
   "execution_count": 8,
   "metadata": {
    "collapsed": false
   },
   "outputs": [],
   "source": [
    "# 取得したデータからリターンインデックスを算出する\n",
    "returns = pd.Series(df['Adj Close']).pct_change() # 騰落率を求める\n",
    "ret_index = (1 + returns).cumprod() # 累積積を求める\n",
    "ret_index[0] = 1 # 最初の値を 1.0 にする\n",
    "\n",
    "# リターンインデックスを出力してみる\n",
    "# print(ret_index)"
   ]
  },
  {
   "cell_type": "code",
   "execution_count": 9,
   "metadata": {
    "collapsed": false
   },
   "outputs": [],
   "source": [
    "# リターンインデックスから教師データを取り出す（作成する）\n",
    "train_X, train_y = train_data(ret_index)"
   ]
  },
  {
   "cell_type": "markdown",
   "metadata": {},
   "source": [
    "### 3. 決定木アルゴリズムを用いて学習する"
   ]
  },
  {
   "cell_type": "code",
   "execution_count": 10,
   "metadata": {
    "collapsed": false
   },
   "outputs": [],
   "source": [
    "# 決定木のインスタンスを生成\n",
    "clf = tree.DecisionTreeClassifier()"
   ]
  },
  {
   "cell_type": "code",
   "execution_count": 11,
   "metadata": {
    "collapsed": false
   },
   "outputs": [],
   "source": [
    "# 学習させる\n",
    "clf = clf.fit(train_X, train_y)"
   ]
  },
  {
   "cell_type": "markdown",
   "metadata": {},
   "source": [
    "### 4.うまく学習したかどうか分類器を試す"
   ]
  },
  {
   "cell_type": "code",
   "execution_count": 12,
   "metadata": {
    "collapsed": false,
    "scrolled": false
   },
   "outputs": [
    {
     "name": "stdout",
     "output_type": "stream",
     "text": [
      "[0 0 1 0 1 1 1 0 0 1 0 1 1 1 0]\n",
      "[0 0 1 0 1 1 1 0 0 1 0 1 1 1 0]\n"
     ]
    }
   ],
   "source": [
    "# 学習後の予測モデルをテストする\n",
    "test_y = []\n",
    "## 過去 90 日間のデータでテストをする\n",
    "#for i in np.arange(-90, -15):             # [-30, -29, -28 .. -16]\n",
    "# 過去 30 日間のデータでテストをする\n",
    "for i in np.arange(-30, -15):             # [-30, -29, -28 .. -16]\n",
    "    s = i + 14\n",
    "    # リターンインデックスの全く同じ期間をテストとして分類させてみる\n",
    "    # ループが進むと、s = 16 -> 15 -> 14 .. と変位するので\n",
    "    # ret_index.ix[-30,-16] -> ret_index.ix[-29, -15]と、\n",
    "    # 30日前から15日間隔でリターンインデックスの配列を取り出している\n",
    "    test_X = ret_index.ix[i:s].values\n",
    "\n",
    "    # 結果を格納して返す\n",
    "    result = clf.predict(test_X)\n",
    "    test_y.append(result[0])\n",
    "\n",
    "print(train_y) # 期待すべき答え\n",
    "print(np.array(test_y)) # 分類器が出した予測"
   ]
  },
  {
   "cell_type": "markdown",
   "metadata": {},
   "source": [
    "### 5. 学習済のモデルを用いて予測する"
   ]
  },
  {
   "cell_type": "code",
   "execution_count": 13,
   "metadata": {
    "collapsed": false,
    "scrolled": true
   },
   "outputs": [],
   "source": [
    "# 直近14日間のリターンインデックスを抽出\n",
    "#data_X = ret_index.ix[range(76,90)].values\n",
    "data_X = ret_index.ix[range(16,30)].values\n",
    "# print(data_X)"
   ]
  },
  {
   "cell_type": "code",
   "execution_count": 14,
   "metadata": {
    "collapsed": false
   },
   "outputs": [
    {
     "name": "stdout",
     "output_type": "stream",
     "text": [
      "[0]\n"
     ]
    }
   ],
   "source": [
    "#  抽出したリターンインデックスから株価が上がる（[1]）か下がる（[0]）か予測\n",
    "result = clf.predict(data_X)\n",
    "print(result)"
   ]
  }
 ],
 "metadata": {
  "kernelspec": {
   "display_name": "Python 3",
   "language": "python",
   "name": "python3"
  },
  "language_info": {
   "codemirror_mode": {
    "name": "ipython",
    "version": 3
   },
   "file_extension": ".py",
   "mimetype": "text/x-python",
   "name": "python",
   "nbconvert_exporter": "python",
   "pygments_lexer": "ipython3",
   "version": "3.4.3"
  }
 },
 "nbformat": 4,
 "nbformat_minor": 0
}
